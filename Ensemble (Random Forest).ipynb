{
 "cells": [
  {
   "cell_type": "code",
   "execution_count": 1,
   "metadata": {},
   "outputs": [
    {
     "name": "stdout",
     "output_type": "stream",
     "text": [
      "Dimensi Feature = (150, 4)\n",
      "Class = {0, 1, 2}\n"
     ]
    }
   ],
   "source": [
    "from sklearn.datasets import load_iris\n",
    "\n",
    "X, y = load_iris(return_X_y=True)\n",
    "\n",
    "print(f'Dimensi Feature = {X.shape}')\n",
    "print(f'Class = {set(y)}')"
   ]
  },
  {
   "cell_type": "code",
   "execution_count": 2,
   "metadata": {},
   "outputs": [],
   "source": [
    "from sklearn.model_selection import train_test_split\n",
    "\n",
    "X_train, X_test, y_train, y_test = train_test_split(X,y,test_size=0.3,random_state=0)"
   ]
  },
  {
   "cell_type": "code",
   "execution_count": 4,
   "metadata": {},
   "outputs": [
    {
     "data": {
      "text/plain": [
       "RandomForestClassifier(random_state=0)"
      ]
     },
     "execution_count": 4,
     "metadata": {},
     "output_type": "execute_result"
    }
   ],
   "source": [
    "from sklearn.ensemble import RandomForestClassifier\n",
    "\n",
    "model = RandomForestClassifier(n_estimators=100,random_state=0)\n",
    "model.fit(X_train,y_train)"
   ]
  },
  {
   "cell_type": "code",
   "execution_count": 5,
   "metadata": {},
   "outputs": [
    {
     "data": {
      "text/plain": [
       "array([2, 1, 0, 2, 0, 2, 0, 1, 1, 1, 2, 1, 1, 1, 1, 0, 1, 1, 0, 0, 2, 1,\n",
       "       0, 0, 2, 0, 0, 1, 1, 0, 2, 1, 0, 2, 2, 1, 0, 2, 1, 1, 2, 0, 2, 0,\n",
       "       0])"
      ]
     },
     "execution_count": 5,
     "metadata": {},
     "output_type": "execute_result"
    }
   ],
   "source": [
    "#hasilnya\n",
    "y_pred = model.predict(X_test)\n",
    "y_pred "
   ]
  },
  {
   "cell_type": "code",
   "execution_count": 6,
   "metadata": {},
   "outputs": [
    {
     "name": "stdout",
     "output_type": "stream",
     "text": [
      "              precision    recall  f1-score   support\n",
      "\n",
      "           0       1.00      1.00      1.00        16\n",
      "           1       1.00      0.94      0.97        18\n",
      "           2       0.92      1.00      0.96        11\n",
      "\n",
      "    accuracy                           0.98        45\n",
      "   macro avg       0.97      0.98      0.98        45\n",
      "weighted avg       0.98      0.98      0.98        45\n",
      "\n"
     ]
    }
   ],
   "source": [
    "from sklearn.metrics import classification_report\n",
    "\n",
    "print(classification_report(y_test,y_pred))"
   ]
  },
  {
   "cell_type": "code",
   "execution_count": null,
   "metadata": {},
   "outputs": [],
   "source": [
    "gabungan dari beberapa model\n",
    "\n",
    "\n",
    "\n",
    "\n",
    "HETEROGENEUS ENSEMBLE LEARNING\n",
    "\n",
    "data -> train, test, split -> KNN, SVM, DTree -> Y_PRED_KNN, Y_PRED_SVM, Y_PRED_DTREE -> Maturity Voting -> Y_PRED_FINAL\n",
    "\n",
    "data -> \n",
    "train, test, split ->\n",
    "KNN, SVM, DTree -> \n",
    "Y_PRED_KNN, Y_PRED_SVM, Y_PRED_DTREE -> \n",
    "Maturity Voting -> \n",
    "Y_PRED_FINAL\n",
    "\n",
    "maturity voting (regression mean/classification modus) - pemilihan dari 3 model \n",
    "\n",
    "\n",
    "\n",
    "\n",
    "\n",
    "HOMOGENOUS ENSEMBLE LEARNING\n",
    "\n",
    "data -> train, test, split -> RANDOM SAMPLING WITH REPLACEMENT -> MODEL_DTREE1, MODEL_DTREE2, MODEL_DTREE3 -> Y_PRED_1, Y_PRED_2, Y_PRED_3 -> Maturity Voting -> Y_PRED_FINAL\n",
    "\n",
    "data -> \n",
    "train, test, split -> \n",
    "RANDOM SAMPLING WITH REPLACEMENT -> \n",
    "MODEL_DTREE1, MODEL_DTREE2, MODEL_DTREE3 -> \n",
    "Y_PRED_1, Y_PRED_2, Y_PRED_3 -> \n",
    "Maturity Voting -> \n",
    "Y_PRED_FINAL\n",
    "\n",
    "BOOTSTRAP AGGREGATING - RANDOM SAMPLING WITH REPLACEMENT - NILAI RANDOM "
   ]
  },
  {
   "cell_type": "code",
   "execution_count": null,
   "metadata": {},
   "outputs": [],
   "source": [
    "modelling Random Forest\n",
    "\n",
    "#1\n",
    "from sklearn.model_selection import GridSearchCV\n",
    "from sklearn.ensemble import RandomForestClassifier\n",
    "from sklearn.metrics import accuracy_score\n",
    "rfc=RandomForestClassifier()\n",
    "param_grid = { \n",
    "    'n_estimators': [200, 500,1000],\n",
    "    'max_features': ['auto','log2'],\n",
    "    'criterion' :['entropy','gini']\n",
    "}\n",
    "\n",
    "#2\n",
    "CV_rfc = GridSearchCV(estimator=rfc, param_grid=param_grid, cv= 2)\n",
    "\n",
    "#3 intinya\n",
    "CV_rfc.fit(train_X, train_y)\n",
    "\n",
    "#4\n",
    "CV_rfc.best_params_\n",
    "{'criterion': 'gini', 'max_features': 'log2', 'n_estimators': 500}\n",
    "\n",
    "#5\n"
   ]
  },
  {
   "cell_type": "code",
   "execution_count": null,
   "metadata": {},
   "outputs": [],
   "source": [
    "\n",
    "\n",
    "\n",
    "\n",
    "Parameters\n",
    "\n",
    "\n",
    "\n",
    "    1. n_estimatorsint, default=100\n",
    "The number of trees in the forest.\n",
    "\n",
    "Changed in version 0.22: The default value of n_estimators changed from 10 to 100 in 0.22.\n",
    "\n",
    "    2. criterion{“gini”, “entropy”}, default=”gini”\n",
    "The function to measure the quality of a split. Supported criteria are “gini” for the Gini impurity and “entropy” for the information gain. Note: this parameter is tree-specific.\n",
    "\n",
    "    3. max_depthint, default=None\n",
    "The maximum depth of the tree. If None, then nodes are expanded until all leaves are pure or until all leaves contain less than min_samples_split samples.\n",
    "\n",
    "    4. min_samples_splitint or float, default=2\n",
    "The minimum number of samples required to split an internal node:\n",
    "\n",
    "If int, then consider min_samples_split as the minimum number.\n",
    "\n",
    "If float, then min_samples_split is a fraction and ceil(min_samples_split * n_samples) are the minimum number of samples for each split.\n",
    "\n",
    "Changed in version 0.18: Added float values for fractions.\n",
    "\n",
    "    5. min_samples_leafint or float, default=1\n",
    "The minimum number of samples required to be at a leaf node. A split point at any depth will only be considered if it leaves at least min_samples_leaf training samples in each of the left and right branches. This may have the effect of smoothing the model, especially in regression.\n",
    "\n",
    "If int, then consider min_samples_leaf as the minimum number.\n",
    "\n",
    "If float, then min_samples_leaf is a fraction and ceil(min_samples_leaf * n_samples) are the minimum number of samples for each node.\n",
    "\n",
    "Changed in version 0.18: Added float values for fractions.\n",
    "\n",
    "    6. min_weight_fraction_leaffloat, default=0.0\n",
    "The minimum weighted fraction of the sum total of weights (of all the input samples) required to be at a leaf node. Samples have equal weight when sample_weight is not provided.\n",
    "\n",
    "    7. max_features{“auto”, “sqrt”, “log2”}, int or float, default=”auto”\n",
    "The number of features to consider when looking for the best split:\n",
    "\n",
    "If int, then consider max_features features at each split.\n",
    "\n",
    "If float, then max_features is a fraction and round(max_features * n_features) features are considered at each split.\n",
    "\n",
    "If “auto”, then max_features=sqrt(n_features).\n",
    "\n",
    "If “sqrt”, then max_features=sqrt(n_features) (same as “auto”).\n",
    "\n",
    "If “log2”, then max_features=log2(n_features).\n",
    "\n",
    "If None, then max_features=n_features.\n",
    "\n",
    "Note: the search for a split does not stop until at least one valid partition of the node samples is found, even if it requires to effectively inspect more than max_features features.\n",
    "\n",
    "    8. max_leaf_nodesint, default=None\n",
    "Grow trees with max_leaf_nodes in best-first fashion. Best nodes are defined as relative reduction in impurity. If None then unlimited number of leaf nodes.\n",
    "\n",
    "    9. min_impurity_decreasefloat, default=0.0\n",
    "A node will be split if this split induces a decrease of the impurity greater than or equal to this value.\n",
    "\n",
    "The weighted impurity decrease equation is the following:\n",
    "\n",
    "N_t / N * (impurity - N_t_R / N_t * right_impurity\n",
    "                    - N_t_L / N_t * left_impurity)\n",
    "where N is the total number of samples, N_t is the number of samples at the current node, N_t_L is the number of samples in the left child, and N_t_R is the number of samples in the right child.\n",
    "\n",
    "N, N_t, N_t_R and N_t_L all refer to the weighted sum, if sample_weight is passed.\n",
    "\n",
    "New in version 0.19.\n",
    "\n",
    "    10. min_impurity_splitfloat, default=None\n",
    "Threshold for early stopping in tree growth. A node will split if its impurity is above the threshold, otherwise it is a leaf.\n",
    "\n",
    "Deprecated since version 0.19: min_impurity_split has been deprecated in favor of min_impurity_decrease in 0.19. The default value of min_impurity_split has changed from 1e-7 to 0 in 0.23 and it will be removed in 1.0 (renaming of 0.25). Use min_impurity_decrease instead.\n",
    "\n",
    "    11. bootstrap bool, default=True\n",
    "Whether bootstrap samples are used when building trees. If False, the whole dataset is used to build each tree.\n",
    "\n",
    "    12. oob_score bool, default=False\n",
    "Whether to use out-of-bag samples to estimate the generalization score. Only available if bootstrap=True.\n",
    "\n",
    "    13. n_jobsint, default=None\n",
    "The number of jobs to run in parallel. fit, predict, decision_path and apply are all parallelized over the trees. None means 1 unless in a joblib.parallel_backend context. -1 means using all processors. See Glossary for more details.\n",
    "\n",
    "    14. random_state int, RandomState instance or None, default=None\n",
    "Controls both the randomness of the bootstrapping of the samples used when building trees (if bootstrap=True) and the sampling of the features to consider when looking for the best split at each node (if max_features < n_features). See Glossary for details.\n",
    "\n",
    "    15. verboseint, default=0\n",
    "Controls the verbosity when fitting and predicting.\n",
    "\n",
    "    16. warm_start bool, default=False\n",
    "When set to True, reuse the solution of the previous call to fit and add more estimators to the ensemble, otherwise, just fit a whole new forest. See the Glossary.\n",
    "\n",
    "    17. class_weight {“balanced”, “balanced_subsample”}, dict or list of dicts, default=None\n",
    "Weights associated with classes in the form {class_label: weight}. If not given, all classes are supposed to have weight one. For multi-output problems, a list of dicts can be provided in the same order as the columns of y.\n",
    "\n",
    "Note that for multioutput (including multilabel) weights should be defined for each class of every column in its own dict. For example, for four-class multilabel classification weights should be [{0: 1, 1: 1}, {0: 1, 1: 5}, {0: 1, 1: 1}, {0: 1, 1: 1}] instead of [{1:1}, {2:5}, {3:1}, {4:1}].\n",
    "\n",
    "The “balanced” mode uses the values of y to automatically adjust weights inversely proportional to class frequencies in the input data as n_samples / (n_classes * np.bincount(y))\n",
    "\n",
    "The “balanced_subsample” mode is the same as “balanced” except that weights are computed based on the bootstrap sample for every tree grown.\n",
    "\n",
    "For multi-output, the weights of each column of y will be multiplied.\n",
    "\n",
    "Note that these weights will be multiplied with sample_weight (passed through the fit method) if sample_weight is specified.\n",
    "\n",
    "    18. ccp_alphanon-negative float, default=0.0\n",
    "Complexity parameter used for Minimal Cost-Complexity Pruning. The subtree with the largest cost complexity that is smaller than ccp_alpha will be chosen. By default, no pruning is performed. See Minimal Cost-Complexity Pruning for details.\n",
    "\n",
    "New in version 0.22.\n",
    "\n",
    "    19. max_samplesint or float, default=None\n",
    "If bootstrap is True, the number of samples to draw from X to train each base estimator.\n",
    "\n",
    "If None (default), then draw X.shape[0] samples.\n",
    "\n",
    "If int, then draw max_samples samples.\n",
    "\n",
    "If float, then draw max_samples * X.shape[0] samples. Thus, max_samples should be in the interval (0, 1).\n",
    "\n",
    "New in version 0.22."
   ]
  }
 ],
 "metadata": {
  "kernelspec": {
   "display_name": "Python 3",
   "language": "python",
   "name": "python3"
  },
  "language_info": {
   "codemirror_mode": {
    "name": "ipython",
    "version": 3
   },
   "file_extension": ".py",
   "mimetype": "text/x-python",
   "name": "python",
   "nbconvert_exporter": "python",
   "pygments_lexer": "ipython3",
   "version": "3.8.5"
  }
 },
 "nbformat": 4,
 "nbformat_minor": 4
}
