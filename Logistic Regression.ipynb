{
 "cells": [
  {
   "cell_type": "code",
   "execution_count": 1,
   "metadata": {},
   "outputs": [
    {
     "name": "stdout",
     "output_type": "stream",
     "text": [
      "Dimensi Feature = (150, 4)\n",
      "Class = {0, 1, 2}\n"
     ]
    }
   ],
   "source": [
    "from sklearn.datasets import load_iris\n",
    "\n",
    "X, y = load_iris(return_X_y=True)\n",
    "\n",
    "print(f'Dimensi Feature = {X.shape}')\n",
    "print(f'Class = {set(y)}')"
   ]
  },
  {
   "cell_type": "code",
   "execution_count": 2,
   "metadata": {},
   "outputs": [],
   "source": [
    "from sklearn.model_selection import train_test_split\n",
    "\n",
    "X_train, X_test, y_train, y_test = train_test_split(X,y,test_size=0.3,random_state=0)"
   ]
  },
  {
   "cell_type": "code",
   "execution_count": 3,
   "metadata": {},
   "outputs": [
    {
     "data": {
      "text/plain": [
       "LogisticRegression()"
      ]
     },
     "execution_count": 3,
     "metadata": {},
     "output_type": "execute_result"
    }
   ],
   "source": [
    "from sklearn.linear_model import LogisticRegression\n",
    "\n",
    "model = LogisticRegression()\n",
    "model.fit(X_train,y_train)"
   ]
  },
  {
   "cell_type": "code",
   "execution_count": 4,
   "metadata": {},
   "outputs": [
    {
     "data": {
      "text/plain": [
       "array([2, 1, 0, 2, 0, 2, 0, 1, 1, 1, 2, 1, 1, 1, 1, 0, 1, 1, 0, 0, 2, 1,\n",
       "       0, 0, 2, 0, 0, 1, 1, 0, 2, 1, 0, 2, 2, 1, 0, 2, 1, 1, 2, 0, 2, 0,\n",
       "       0])"
      ]
     },
     "execution_count": 4,
     "metadata": {},
     "output_type": "execute_result"
    }
   ],
   "source": [
    "#hasilnya\n",
    "y_pred = model.predict(X_test)\n",
    "y_pred "
   ]
  },
  {
   "cell_type": "code",
   "execution_count": 5,
   "metadata": {},
   "outputs": [
    {
     "name": "stdout",
     "output_type": "stream",
     "text": [
      "nilai asli  2 nilai prediksi  2\n",
      "nilai asli  1 nilai prediksi  1\n",
      "nilai asli  0 nilai prediksi  0\n",
      "nilai asli  2 nilai prediksi  2\n",
      "nilai asli  0 nilai prediksi  0\n",
      "nilai asli  2 nilai prediksi  2\n",
      "nilai asli  0 nilai prediksi  0\n",
      "nilai asli  1 nilai prediksi  1\n",
      "nilai asli  1 nilai prediksi  1\n",
      "nilai asli  1 nilai prediksi  1\n",
      "nilai asli  2 nilai prediksi  2\n",
      "nilai asli  1 nilai prediksi  1\n",
      "nilai asli  1 nilai prediksi  1\n",
      "nilai asli  1 nilai prediksi  1\n",
      "nilai asli  1 nilai prediksi  1\n",
      "nilai asli  0 nilai prediksi  0\n",
      "nilai asli  1 nilai prediksi  1\n",
      "nilai asli  1 nilai prediksi  1\n",
      "nilai asli  0 nilai prediksi  0\n",
      "nilai asli  0 nilai prediksi  0\n",
      "nilai asli  2 nilai prediksi  2\n",
      "nilai asli  1 nilai prediksi  1\n",
      "nilai asli  0 nilai prediksi  0\n",
      "nilai asli  0 nilai prediksi  0\n",
      "nilai asli  2 nilai prediksi  2\n",
      "nilai asli  0 nilai prediksi  0\n",
      "nilai asli  0 nilai prediksi  0\n",
      "nilai asli  1 nilai prediksi  1\n",
      "nilai asli  1 nilai prediksi  1\n",
      "nilai asli  0 nilai prediksi  0\n",
      "nilai asli  2 nilai prediksi  2\n",
      "nilai asli  1 nilai prediksi  1\n",
      "nilai asli  0 nilai prediksi  0\n",
      "nilai asli  2 nilai prediksi  2\n",
      "nilai asli  2 nilai prediksi  2\n",
      "nilai asli  1 nilai prediksi  1\n",
      "nilai asli  0 nilai prediksi  0\n",
      "nilai asli  1 nilai prediksi  2 prediksi salah\n",
      "nilai asli  1 nilai prediksi  1\n",
      "nilai asli  1 nilai prediksi  1\n",
      "nilai asli  2 nilai prediksi  2\n",
      "nilai asli  0 nilai prediksi  0\n",
      "nilai asli  2 nilai prediksi  2\n",
      "nilai asli  0 nilai prediksi  0\n",
      "nilai asli  0 nilai prediksi  0\n"
     ]
    }
   ],
   "source": [
    "\n",
    "for i in range(len(y_pred)):\n",
    "\tif(y_test[i] != y_pred[i]):\n",
    "\t\tprint(\"nilai asli \", y_test[i], \"nilai prediksi \", y_pred[i], \"prediksi salah\")\n",
    "\telse:\n",
    "\t\tprint(\"nilai asli \", y_test[i], \"nilai prediksi \", y_pred[i])\n",
    "\n"
   ]
  },
  {
   "cell_type": "code",
   "execution_count": 6,
   "metadata": {},
   "outputs": [
    {
     "name": "stdout",
     "output_type": "stream",
     "text": [
      "              precision    recall  f1-score   support\n",
      "\n",
      "           0       1.00      1.00      1.00        16\n",
      "           1       1.00      0.94      0.97        18\n",
      "           2       0.92      1.00      0.96        11\n",
      "\n",
      "    accuracy                           0.98        45\n",
      "   macro avg       0.97      0.98      0.98        45\n",
      "weighted avg       0.98      0.98      0.98        45\n",
      "\n"
     ]
    }
   ],
   "source": [
    "from sklearn.metrics import classification_report\n",
    "\n",
    "print(classification_report(y_test,y_pred))"
   ]
  },
  {
   "cell_type": "code",
   "execution_count": null,
   "metadata": {},
   "outputs": [],
   "source": [
    "numeric 1 dan categorical 1\n",
    "\n",
    "Logistic Regression\n",
    "\n",
    "\n",
    "\n",
    "kalau variabel y kurang membedakan variabel x\n",
    "contoh: data gaji s1 dengan sma\n",
    "\n",
    "y\n",
    "\n",
    "1              ^-----------\n",
    "              /\n",
    "             /\n",
    "            /\n",
    "0 ---------v                  X\n",
    "\n",
    "\n",
    "\n",
    "\n",
    "kalau variabel y sangat membedakan variabel x \n",
    "contoh: data gaji laki2 dan wanita\n",
    "\n",
    "y\n",
    "\n",
    "1                     ^-----------\n",
    "                   /\n",
    "                /\n",
    "             /\n",
    "0 ---------v                  X\n",
    "\n",
    "\n",
    "\n",
    "for i in range(len(y_pred)):\n",
    "\tif(y_test[i] != y_pred[i]):\n",
    "\t\tprint(\"nilai asli \", y_test[i], \"nilai prediksi \", y_pred[i], \"prediksi salah\")\n",
    "\telse:\n",
    "\t\tprint(\"nilai asli \", y_test[i], \"nilai prediksi \", y_pred[i])\n",
    "\n",
    "\n",
    "\n"
   ]
  },
  {
   "cell_type": "code",
   "execution_count": null,
   "metadata": {},
   "outputs": [],
   "source": [
    "import statsmodels.api as sm\n",
    "\n",
    "exog = sm.add_constant(X_train)\n",
    "log_reg = sm.Logit(y_train, exog).fit()\n",
    "print(log_reg.summary())\n",
    "\n",
    "exog = sm.add_constant(X_train.drop(labels='Emb_Q', axis=1))\n",
    "log_reg = sm.Logit(y_train, exog).fit()\n",
    "print(log_reg.summary())\n",
    "\n",
    "pred=log_reg.predict(sm.add_constant(X_test.drop(labels=\"Emb_Q\",axis=1)))\n",
    "\n",
    "\n",
    "\n",
    "\n",
    "\n",
    "\n",
    "\n",
    "from sklearn.metrics import accuracy_score\n",
    "print(\"Accuracy for Logreg on test data: \",accuracy_score(y_test,np.round(pred)))\n",
    "\n",
    "from sklearn.metrics import confusion_matrix\n",
    "CF=confusion_matrix(y_test, np.round(pred))\n",
    "CF\n",
    "\n",
    "from sklearn.metrics import classification_report\n",
    "target_names = ['No Survived','Survived']\n",
    "print(classification_report(y_test, np.round(pred), target_names=target_names))\n",
    "\n",
    "\n",
    "\n",
    "\n",
    "\n",
    "from sklearn.linear_model import LogisticRegression\n",
    "\n",
    "model_LR = LogisticRegression()\n",
    "\n",
    "#training model\n",
    "model_LR.fit(X_train, y_train)\n",
    "\n",
    "y_pred_LR = model_LR.predict(X_test)\n",
    "\n",
    "\n",
    "\n",
    "\n",
    "\n",
    "from sklearn.metrics import classification_report\n",
    "from sklearn.metrics import plot_confusion_matrix\n",
    "from sklearn.metrics import roc_auc_score\n",
    "\n",
    "print(classification_report(y_test, y_pred_LR))\n",
    "\n",
    "plot_confusion_matrix(model_LR, X_test, y_test)\n",
    "\n",
    "roc_auc_score(y_test, y_pred_LR)"
   ]
  },
  {
   "cell_type": "code",
   "execution_count": null,
   "metadata": {},
   "outputs": [],
   "source": [
    "Parameters\n",
    "    penalty{‘l1’, ‘l2’, ‘elasticnet’, ‘none’}, default=’l2’\n",
    "Used to specify the norm used in the penalization. The ‘newton-cg’, ‘sag’ and ‘lbfgs’ solvers support only l2 penalties. ‘elasticnet’ is only supported by the ‘saga’ solver. If ‘none’ (not supported by the liblinear solver), no regularization is applied.\n",
    "\n",
    "New in version 0.19: l1 penalty with SAGA solver (allowing ‘multinomial’ + L1)\n",
    "\n",
    "    dualbool, default=False\n",
    "Dual or primal formulation. Dual formulation is only implemented for l2 penalty with liblinear solver. Prefer dual=False when n_samples > n_features.\n",
    "\n",
    "    tolfloat, default=1e-4\n",
    "Tolerance for stopping criteria.\n",
    "\n",
    "    Cfloat, default=1.0\n",
    "Inverse of regularization strength; must be a positive float. Like in support vector machines, smaller values specify stronger regularization.\n",
    "\n",
    "    fit_interceptbool, default=True\n",
    "Specifies if a constant (a.k.a. bias or intercept) should be added to the decision function.\n",
    "\n",
    "    intercept_scalingfloat, default=1\n",
    "Useful only when the solver ‘liblinear’ is used and self.fit_intercept is set to True. In this case, x becomes [x, self.intercept_scaling], i.e. a “synthetic” feature with constant value equal to intercept_scaling is appended to the instance vector. The intercept becomes intercept_scaling * synthetic_feature_weight.\n",
    "\n",
    "Note! the synthetic feature weight is subject to l1/l2 regularization as all other features. To lessen the effect of regularization on synthetic feature weight (and therefore on the intercept) intercept_scaling has to be increased.\n",
    "\n",
    "    class_weightdict or ‘balanced’, default=None\n",
    "Weights associated with classes in the form {class_label: weight}. If not given, all classes are supposed to have weight one.\n",
    "\n",
    "The “balanced” mode uses the values of y to automatically adjust weights inversely proportional to class frequencies in the input data as n_samples / (n_classes * np.bincount(y)).\n",
    "\n",
    "Note that these weights will be multiplied with sample_weight (passed through the fit method) if sample_weight is specified.\n",
    "\n",
    "New in version 0.17: class_weight=’balanced’\n",
    "\n",
    "    random_stateint, RandomState instance, default=None\n",
    "Used when solver == ‘sag’, ‘saga’ or ‘liblinear’ to shuffle the data. See Glossary for details.\n",
    "\n",
    "    solver{‘newton-cg’, ‘lbfgs’, ‘liblinear’, ‘sag’, ‘saga’}, default=’lbfgs’\n",
    "Algorithm to use in the optimization problem.\n",
    "\n",
    "For small datasets, ‘liblinear’ is a good choice, whereas ‘sag’ and ‘saga’ are faster for large ones.\n",
    "\n",
    "For multiclass problems, only ‘newton-cg’, ‘sag’, ‘saga’ and ‘lbfgs’ handle multinomial loss; ‘liblinear’ is limited to one-versus-rest schemes.\n",
    "\n",
    "‘newton-cg’, ‘lbfgs’, ‘sag’ and ‘saga’ handle L2 or no penalty\n",
    "\n",
    "‘liblinear’ and ‘saga’ also handle L1 penalty\n",
    "\n",
    "‘saga’ also supports ‘elasticnet’ penalty\n",
    "\n",
    "‘liblinear’ does not support setting penalty='none'\n",
    "\n",
    "Note that ‘sag’ and ‘saga’ fast convergence is only guaranteed on features with approximately the same scale. You can preprocess the data with a scaler from sklearn.preprocessing.\n",
    "\n",
    "New in version 0.17: Stochastic Average Gradient descent solver.\n",
    "\n",
    "New in version 0.19: SAGA solver.\n",
    "\n",
    "Changed in version 0.22: The default solver changed from ‘liblinear’ to ‘lbfgs’ in 0.22.\n",
    "\n",
    "    max_iterint, default=100\n",
    "Maximum number of iterations taken for the solvers to converge.\n",
    "\n",
    "    multi_class{‘auto’, ‘ovr’, ‘multinomial’}, default=’auto’\n",
    "If the option chosen is ‘ovr’, then a binary problem is fit for each label. For ‘multinomial’ the loss minimised is the multinomial loss fit across the entire probability distribution, even when the data is binary. ‘multinomial’ is unavailable when solver=’liblinear’. ‘auto’ selects ‘ovr’ if the data is binary, or if solver=’liblinear’, and otherwise selects ‘multinomial’.\n",
    "\n",
    "New in version 0.18: Stochastic Average Gradient descent solver for ‘multinomial’ case.\n",
    "\n",
    "Changed in version 0.22: Default changed from ‘ovr’ to ‘auto’ in 0.22.\n",
    "\n",
    "    verboseint, default=0\n",
    "For the liblinear and lbfgs solvers set verbose to any positive number for verbosity.\n",
    "\n",
    "    warm_startbool, default=False\n",
    "When set to True, reuse the solution of the previous call to fit as initialization, otherwise, just erase the previous solution. Useless for liblinear solver. See the Glossary.\n",
    "\n",
    "New in version 0.17: warm_start to support lbfgs, newton-cg, sag, saga solvers.\n",
    "\n",
    "    n_jobsint, default=None\n",
    "Number of CPU cores used when parallelizing over classes if multi_class=’ovr’”. This parameter is ignored when the solver is set to ‘liblinear’ regardless of whether ‘multi_class’ is specified or not. None means 1 unless in a joblib.parallel_backend context. -1 means using all processors. See Glossary for more details.\n",
    "\n",
    "    l1_ratiofloat, default=None\n",
    "The Elastic-Net mixing parameter, with 0 <= l1_ratio <= 1. Only used if penalty='elasticnet'. Setting l1_ratio=0 is equivalent to using penalty='l2', while setting l1_ratio=1 is equivalent to using penalty='l1'. For 0 < l1_ratio <1, the penalty is a combination of L1 and L2."
   ]
  }
 ],
 "metadata": {
  "kernelspec": {
   "display_name": "Python 3",
   "language": "python",
   "name": "python3"
  },
  "language_info": {
   "codemirror_mode": {
    "name": "ipython",
    "version": 3
   },
   "file_extension": ".py",
   "mimetype": "text/x-python",
   "name": "python",
   "nbconvert_exporter": "python",
   "pygments_lexer": "ipython3",
   "version": "3.8.5"
  }
 },
 "nbformat": 4,
 "nbformat_minor": 4
}
